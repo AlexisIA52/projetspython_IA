{
 "cells": [
  {
   "cell_type": "markdown",
   "id": "059bedaa-d9c4-4045-8e1a-b4f47bd4f6bc",
   "metadata": {},
   "source": [
    "## 1- Calculs arithmétiques\n",
    "### Désignation :\n",
    "- addition : +\n",
    "- soustration : -\n",
    "- multiplication : *\n",
    "- division : /\n",
    "- Le reste de la division euclidienne : %\n",
    "- Surpérieur à : >\n",
    "- Inférieur à : <\n",
    "- Surpérieur ou égal à : >=\n",
    "- Inférieur ou égal à : <= "
   ]
  },
  {
   "cell_type": "code",
   "execution_count": 35,
   "id": "800e2f50-bdf7-4650-b3d7-605b77fe4105",
   "metadata": {},
   "outputs": [
    {
     "data": {
      "text/plain": [
       "2"
      ]
     },
     "execution_count": 35,
     "metadata": {},
     "output_type": "execute_result"
    }
   ],
   "source": [
    "# simple calcul\n",
    "1 + 1"
   ]
  },
  {
   "cell_type": "markdown",
   "id": "09c9f1b3-200a-4a42-9669-f38ca84cc251",
   "metadata": {},
   "source": [
    "#### Le resultat de ce calcul, peut être affecté à une variable pour des calculs ultérieurs. D'ou la notion de variables"
   ]
  },
  {
   "cell_type": "code",
   "execution_count": 7,
   "id": "de487ec9-bb7b-4e34-bb55-3a8ddb454eba",
   "metadata": {},
   "outputs": [],
   "source": [
    "# exemple\n",
    "x = 1 + 1\n",
    "y = x\n",
    "x = y + 1\n",
    "# ce dernier point est equivalents de :\n",
    "x += 1 # A cet instant, x vaut 4"
   ]
  },
  {
   "cell_type": "code",
   "execution_count": 8,
   "id": "df788347-0fda-4532-ad48-ac8f72a20221",
   "metadata": {},
   "outputs": [
    {
     "data": {
      "text/plain": [
       "4"
      ]
     },
     "execution_count": 8,
     "metadata": {},
     "output_type": "execute_result"
    }
   ],
   "source": [
    "x"
   ]
  },
  {
   "cell_type": "markdown",
   "id": "e37b8370-55e6-4515-b5d4-ba9190fc15b2",
   "metadata": {},
   "source": [
    "### Les calculs équivanlents :\n",
    "- x -= 1 <=> x = x - 1\n",
    "- x /= 2 <=> x = x/2\n",
    "- x *= 2 <=> x = x * 2\n",
    "- etc ..."
   ]
  },
  {
   "cell_type": "code",
   "execution_count": 11,
   "id": "a756ac30-1977-4adc-8a5a-24f69b94e42f",
   "metadata": {},
   "outputs": [
    {
     "name": "stdout",
     "output_type": "stream",
     "text": [
      "6\n",
      "2\n",
      "-8\n",
      "-2.0\n",
      "0\n"
     ]
    }
   ],
   "source": [
    "# On peut aisément vérifier :\n",
    "x = 4\n",
    "y = -2\n",
    "print(x - y)\n",
    "print(x + y)\n",
    "print(x * y)\n",
    "print(x / y)\n",
    "print(x % y)\n",
    "\n",
    "# La fonction print est utilisée pour affichage en python  "
   ]
  },
  {
   "cell_type": "markdown",
   "id": "8ea4a6e2-a3ff-40c7-b985-02a5ac8ab06e",
   "metadata": {},
   "source": [
    "## 2- Les opérations logiques\n",
    "### Désignations :\n",
    "- Vrai <=> True\n",
    "- Faux <=> False\n",
    "- Et <=> &\n",
    "- Ou <=> |\n",
    "- Egalité <=> ==\n",
    "- Différent de !="
   ]
  },
  {
   "cell_type": "code",
   "execution_count": 13,
   "id": "cece9aa9-4f64-44a4-b855-0b630a679417",
   "metadata": {},
   "outputs": [
    {
     "name": "stdout",
     "output_type": "stream",
     "text": [
      "False\n",
      "True\n",
      "False\n",
      "True\n"
     ]
    }
   ],
   "source": [
    "# On peut aisément vérifier :\n",
    "a = True\n",
    "b = False\n",
    "print(a == b)\n",
    "print(a != b)\n",
    "print(a & b)\n",
    "print(a | b)"
   ]
  },
  {
   "cell_type": "markdown",
   "id": "22a4a575-9c9c-45c7-96ea-38877ed730a5",
   "metadata": {},
   "source": [
    "### 3- Chaine de caractère\n",
    "- On utilise \" \" ou ' ' pour définir une chaine de caractère\n",
    "- Exemple : a = \"Age\""
   ]
  },
  {
   "cell_type": "code",
   "execution_count": 26,
   "id": "75f555c8-cc27-4d90-9cc5-6565955b0e06",
   "metadata": {},
   "outputs": [
    {
     "name": "stdout",
     "output_type": "stream",
     "text": [
      "Nom prénom\n"
     ]
    }
   ],
   "source": [
    "a = \"Nom\"\n",
    "b = 'prénom'\n",
    "print(a , b )\n",
    "\n",
    "# Pour afficher deux choses à la fois, on utlise la virgule dans print."
   ]
  },
  {
   "cell_type": "code",
   "execution_count": 34,
   "id": "9b3de866-73cc-450b-a8ed-63998b027fa5",
   "metadata": {},
   "outputs": [
    {
     "name": "stdout",
     "output_type": "stream",
     "text": [
      "Etudiant : DOSSOU Vignon David\n"
     ]
    }
   ],
   "source": [
    "### Quelques opérations sur les chaines de caractère\n",
    "nom = \"DOSSOU\"\n",
    "prenom1 = \"Vignon\"\n",
    "prenom2 = \"David\"\n",
    "\n",
    "etudiant = nom +' ' + prenom1 + ' ' + prenom2  # concaténation\n",
    "print(\"Etudiant :\", etudiant)"
   ]
  },
  {
   "cell_type": "markdown",
   "id": "69a0e92a-b131-4c46-ba5a-5a88fc111e78",
   "metadata": {},
   "source": [
    "## Types de variables\n",
    "### Désignation :\n",
    "- variable entier naturel ou relatif : int\n",
    "- variable rationnel ou réel : float\n",
    "- variable chaine de caractère : str \n",
    "Ainsi, pour vérifier le type d'une varible, on utilise la fonction type"
   ]
  },
  {
   "cell_type": "code",
   "execution_count": 38,
   "id": "64c24663-0b07-4605-9967-776a2de10a12",
   "metadata": {},
   "outputs": [
    {
     "name": "stdout",
     "output_type": "stream",
     "text": [
      "<class 'int'>\n",
      "<class 'float'>\n",
      "<class 'str'>\n",
      "<class 'str'>\n",
      "<class 'bool'>\n",
      "<class 'bool'>\n"
     ]
    }
   ],
   "source": [
    "# On peut aisément vérifier :\n",
    "a = 10\n",
    "b = 3.14\n",
    "c = '191'\n",
    "d = \"python\"\n",
    "e = True\n",
    "f = False\n",
    "\n",
    "print(type(a))\n",
    "print(type(b))\n",
    "print(type(c))\n",
    "print(type(d))\n",
    "print(type(e))\n",
    "print(type(f))"
   ]
  },
  {
   "cell_type": "markdown",
   "id": "ec67342e-30e8-4f54-ac84-d4d718a0543d",
   "metadata": {},
   "source": [
    "## Convertion\n",
    "En effet,  \n",
    "- on peut convertir toute variable en une chaine de caractère\n",
    "- on peut convertir une chaine de caractère en un nombre entier ou réel, mais à condition\n",
    "- on ne peut pas convertir, par exemple la chaine 'a12' en entier : on aura une erreur\n",
    "- on ne peut pas convertir, par exemple la chaine '1.12' en entier : on aura une erreur\n",
    "- Mais on peut convertir '1.12' en réel"
   ]
  },
  {
   "cell_type": "code",
   "execution_count": 43,
   "id": "de12a8d0-e1fd-420a-8ade-29ea6bb29335",
   "metadata": {},
   "outputs": [
    {
     "name": "stdout",
     "output_type": "stream",
     "text": [
      "<class 'int'>\n",
      "<class 'str'>\n",
      "18\n"
     ]
    }
   ],
   "source": [
    "# Exemple\n",
    "x = '18'\n",
    "t = 100\n",
    "y = int(x)\n",
    "z = str(t)\n",
    "\n",
    "print(type(y))\n",
    "print(type(z))\n",
    "print(y)"
   ]
  },
  {
   "cell_type": "markdown",
   "id": "916036ad-c69c-411b-b824-e108c5cf1e76",
   "metadata": {},
   "source": [
    "## Les structures conditionnelles\n",
    "### Désignation : \n",
    "- Si <=> if\n",
    "- Sinon <=> else\n",
    "- Sinon si <=> elif"
   ]
  },
  {
   "cell_type": "raw",
   "id": "b9075327-2057-4ae6-a408-9115db3e040c",
   "metadata": {},
   "source": [
    "### Syntaxe :\n",
    "if condition1 :\n",
    "    instruction1 \n",
    "elif condition2 :\n",
    "    instruction2\n",
    "        .\n",
    "        .\n",
    "        .\n",
    "else :\n",
    "    instruction n"
   ]
  },
  {
   "cell_type": "code",
   "execution_count": 24,
   "id": "d353ec4e-9f01-4a8d-b732-20e6c3414210",
   "metadata": {},
   "outputs": [
    {
     "name": "stdout",
     "output_type": "stream",
     "text": [
      "Admis\n"
     ]
    }
   ],
   "source": [
    "# Exemple\n",
    "moyenne = 15\n",
    "if moyenne < 10 :\n",
    "    print(\"Réfuser\")\n",
    "else :\n",
    "    print(\"Admis\")"
   ]
  },
  {
   "cell_type": "markdown",
   "id": "acd8d466-5fd4-4a0a-b6a0-da047fc66004",
   "metadata": {},
   "source": [
    "### Pour demander à l'utilisateur d'entrer un nombre ou une chaine de caractère, on utilise la fonction input\n",
    "- Tout ce qui est entré par l'utilisateur est par defaut considérer comme une chaine de caractère\n",
    "- Pour l'utiliser comme un nombre, if faut le convertir."
   ]
  },
  {
   "cell_type": "code",
   "execution_count": 46,
   "id": "9a640602-ce87-43ef-97f9-8e0b8d70376a",
   "metadata": {},
   "outputs": [
    {
     "name": "stdin",
     "output_type": "stream",
     "text": [
      "Entrez un nombre 12\n"
     ]
    },
    {
     "name": "stdout",
     "output_type": "stream",
     "text": [
      "24\n"
     ]
    }
   ],
   "source": [
    "# Exemple\n",
    "a = input(\"Entrez un nombre\")\n",
    "a = int(a) # ça marchera si l'utilisateur a bien entré un nombre\n",
    "print(a * 2)"
   ]
  },
  {
   "cell_type": "markdown",
   "id": "d45fa6b6-727d-4e72-ad1f-e1eea2a79bb4",
   "metadata": {},
   "source": [
    "### Exercice 1\n",
    "Demandez à l'utilisateur d'entrer son age, et affichez lui sa tranche d'âge"
   ]
  },
  {
   "cell_type": "code",
   "execution_count": 25,
   "id": "98019b50-362f-45cc-a254-90fbe289edde",
   "metadata": {},
   "outputs": [
    {
     "name": "stdin",
     "output_type": "stream",
     "text": [
      "Entrez votre age 22\n"
     ]
    },
    {
     "name": "stdout",
     "output_type": "stream",
     "text": [
      "Jeune homme\n"
     ]
    }
   ],
   "source": [
    "# réponse\n",
    "age = int(input(\"Entrez votre age\"))\n",
    "\n",
    "if age < 16 :\n",
    "    print(\"Mineur\")\n",
    "elif (age >= 16) & (age < 18 ):\n",
    "    print(\"Adolescent\")\n",
    "elif (age >= 18) & (age < 26 ):\n",
    "    print(\"Jeune homme\")\n",
    "else :\n",
    "    print(\"Adulte\")"
   ]
  },
  {
   "cell_type": "markdown",
   "id": "ee80c0eb-8389-49eb-902d-b99d358b5b46",
   "metadata": {},
   "source": [
    "## Les boucles\n",
    "### Boucle while (tantque)"
   ]
  },
  {
   "cell_type": "raw",
   "id": "de8cbd2c-13db-4a27-9fc1-4dd95a462f0c",
   "metadata": {},
   "source": [
    "# Syntaxe\n",
    "while (condition) :\n",
    "    \"instruction\""
   ]
  },
  {
   "cell_type": "code",
   "execution_count": 49,
   "id": "38dac873-04ed-4e78-8b1b-38fc4e14d643",
   "metadata": {},
   "outputs": [
    {
     "name": "stdout",
     "output_type": "stream",
     "text": [
      "55\n"
     ]
    }
   ],
   "source": [
    "# Exemple : somme de touts les nombres entre 0 et 10\n",
    "k = 0\n",
    "s = 0\n",
    "while k <= 10:\n",
    "    s = s + k\n",
    "    k += 1\n",
    "print(s) "
   ]
  },
  {
   "cell_type": "markdown",
   "id": "2fe6e0c3-b0ad-46ce-8a8f-87bb7c9db8e2",
   "metadata": {},
   "source": [
    "### Boucle for (Pour)"
   ]
  },
  {
   "cell_type": "raw",
   "id": "b536e8a5-f7bd-4a4c-9c92-9ef1b386797a",
   "metadata": {},
   "source": [
    "# Syntaxe\n",
    "for i in range(debut, fin, pas):\n",
    "    instructions\n",
    "\n",
    "Remarque\n",
    "- Par defaut, debut = 0 et pas = 1\n",
    "- la fin n'est pas pris en compte\n",
    "- la boucle commence au debut et s'arrête à fin - 1"
   ]
  },
  {
   "cell_type": "code",
   "execution_count": null,
   "id": "96712b50-c94a-478a-8592-9c408f12b7cf",
   "metadata": {},
   "outputs": [],
   "source": [
    "# Exemple : somme de touts les nombres entre 0 et 10"
   ]
  },
  {
   "cell_type": "code",
   "execution_count": 50,
   "id": "075f7d4c-8d83-4469-96ec-3a9096238d4e",
   "metadata": {},
   "outputs": [
    {
     "name": "stdout",
     "output_type": "stream",
     "text": [
      "55\n"
     ]
    }
   ],
   "source": [
    "s = 0 \n",
    "for i in range(11):\n",
    "    s = s + i\n",
    "print(s)"
   ]
  },
  {
   "cell_type": "markdown",
   "id": "85c8f4f2-c82b-4a78-807b-d61ad0ec292f",
   "metadata": {},
   "source": [
    "### Les Fonctions \n"
   ]
  },
  {
   "cell_type": "code",
   "execution_count": 53,
   "id": "a630b7b0-3fda-4f99-8bfa-cd77a715cc55",
   "metadata": {},
   "outputs": [
    {
     "name": "stdout",
     "output_type": "stream",
     "text": [
      "[0, 1, 1, 2, 3, 5, 8, 13]\n"
     ]
    }
   ],
   "source": [
    "def fibonacci(n):\n",
    "    tout_elements = []\n",
    "    a=0\n",
    "    b= 1\n",
    "    while a <= n+1:\n",
    "        tout_elements.append(a)\n",
    "        a, b = b , a + b\n",
    "\n",
    "    return tout_elements\n",
    "print(fibonacci(19))\n",
    "        "
   ]
  },
  {
   "cell_type": "code",
   "execution_count": 15,
   "id": "d2953dc5-f865-4ac4-acb6-c3f1af657132",
   "metadata": {},
   "outputs": [
    {
     "name": "stdout",
     "output_type": "stream",
     "text": [
      "é\n"
     ]
    }
   ],
   "source": [
    "prenom = \"Josué\"\n",
    "\n",
    "print(prenom[-1])"
   ]
  },
  {
   "cell_type": "code",
   "execution_count": 37,
   "id": "4284d73d-a0f7-4449-9ed0-711333b9474b",
   "metadata": {},
   "outputs": [
    {
     "name": "stdout",
     "output_type": "stream",
     "text": [
      "[1, 2, 4, 35, 25]\n"
     ]
    }
   ],
   "source": [
    "liste = [1,3,2,32,4,34,35,5,25]\n",
    "\n",
    "print(liste[::2])"
   ]
  },
  {
   "cell_type": "code",
   "execution_count": 38,
   "id": "ed3fee8f-49c9-4406-a5b1-64bc0946566e",
   "metadata": {},
   "outputs": [
    {
     "name": "stdout",
     "output_type": "stream",
     "text": [
      "[1, 3, 2, 32, 4, 34, 35, 5, 25]\n"
     ]
    }
   ],
   "source": [
    "print(liste[:9:])"
   ]
  },
  {
   "cell_type": "code",
   "execution_count": 39,
   "id": "9312c443-1619-4de1-9bec-94814838de64",
   "metadata": {},
   "outputs": [
    {
     "name": "stdout",
     "output_type": "stream",
     "text": [
      "[-1, 3, 2, 32, 4, 34, 35, 5, 25]\n"
     ]
    }
   ],
   "source": [
    "liste[0] = -1\n",
    "print(liste)"
   ]
  },
  {
   "cell_type": "code",
   "execution_count": 40,
   "id": "3cae6368-4964-4e26-bbbe-f2df91ba8e24",
   "metadata": {},
   "outputs": [
    {
     "name": "stdout",
     "output_type": "stream",
     "text": [
      "[-1, 3, 2, 32, 4, 34, 35, 5, 25, 9]\n"
     ]
    }
   ],
   "source": [
    "liste.append(9)\n",
    "\n",
    "print(liste)"
   ]
  },
  {
   "cell_type": "code",
   "execution_count": 41,
   "id": "e149b4f5-9aaf-4354-a1c9-731ce6131b1b",
   "metadata": {},
   "outputs": [
    {
     "name": "stdout",
     "output_type": "stream",
     "text": [
      "[-1, 3, 2, 4, 34, 35, 5, 25, 9] 32\n"
     ]
    }
   ],
   "source": [
    "x = liste.pop(3)\n",
    "print(liste, x)"
   ]
  },
  {
   "cell_type": "code",
   "execution_count": 36,
   "id": "0ab981fd-2dd3-4d5d-9fcc-e3c57be5ef52",
   "metadata": {},
   "outputs": [
    {
     "name": "stdout",
     "output_type": "stream",
     "text": [
      "[-1, 3, 2, 34, 35, 5, 25, 9]\n"
     ]
    }
   ],
   "source": [
    "print(liste)"
   ]
  },
  {
   "cell_type": "code",
   "execution_count": 42,
   "id": "e1a69b7d-c2ba-420f-b769-c4f1829f6052",
   "metadata": {},
   "outputs": [
    {
     "data": {
      "text/plain": [
       "4"
      ]
     },
     "execution_count": 42,
     "metadata": {},
     "output_type": "execute_result"
    }
   ],
   "source": [
    "liste.index(34)"
   ]
  },
  {
   "cell_type": "code",
   "execution_count": 43,
   "id": "904652bf-191f-4177-be00-a7466d7da37b",
   "metadata": {},
   "outputs": [],
   "source": [
    "liste_2 = [100,40]\n",
    "liste.extend(liste_2)"
   ]
  },
  {
   "cell_type": "code",
   "execution_count": 44,
   "id": "8a1b079e-1b08-4136-a980-e4d8e07a84d3",
   "metadata": {},
   "outputs": [
    {
     "data": {
      "text/plain": [
       "[-1, 3, 2, 4, 34, 35, 5, 25, 9, 100, 40]"
      ]
     },
     "execution_count": 44,
     "metadata": {},
     "output_type": "execute_result"
    }
   ],
   "source": [
    "liste"
   ]
  },
  {
   "cell_type": "code",
   "execution_count": 45,
   "id": "4ae3ee22-db94-458c-a179-d1c07e76519a",
   "metadata": {},
   "outputs": [
    {
     "data": {
      "text/plain": [
       "1"
      ]
     },
     "execution_count": 45,
     "metadata": {},
     "output_type": "execute_result"
    }
   ],
   "source": [
    "liste.count(5)"
   ]
  },
  {
   "cell_type": "code",
   "execution_count": 50,
   "id": "e0a89f2e-0d48-4e35-bf00-be21b3eba3ea",
   "metadata": {},
   "outputs": [],
   "source": [
    "liste.sort(reverse = True)"
   ]
  },
  {
   "cell_type": "code",
   "execution_count": 51,
   "id": "274cce7f-8234-4a49-9c53-8985cd3baaaa",
   "metadata": {},
   "outputs": [
    {
     "name": "stdout",
     "output_type": "stream",
     "text": [
      "[100, 40, 35, 34, 25, 9, 5, 4, 3, 2, -1]\n"
     ]
    }
   ],
   "source": [
    "print(liste)"
   ]
  },
  {
   "cell_type": "code",
   "execution_count": 55,
   "id": "65a7f1df-08b9-454d-8ae9-e8662532e522",
   "metadata": {},
   "outputs": [
    {
     "data": {
      "text/plain": [
       "{100: ['ALex', 'Armour', 'Daniel', 'Prince', 'Zatta'],\n",
       " 40: ['ALex', 'Armour', 'Daniel', 'Prince', 'Zatta'],\n",
       " 35: ['ALex', 'Armour', 'Daniel', 'Prince', 'Zatta'],\n",
       " 34: ['ALex', 'Armour', 'Daniel', 'Prince', 'Zatta'],\n",
       " 25: ['ALex', 'Armour', 'Daniel', 'Prince', 'Zatta'],\n",
       " 9: ['ALex', 'Armour', 'Daniel', 'Prince', 'Zatta'],\n",
       " 5: ['ALex', 'Armour', 'Daniel', 'Prince', 'Zatta'],\n",
       " 4: ['ALex', 'Armour', 'Daniel', 'Prince', 'Zatta'],\n",
       " 3: ['ALex', 'Armour', 'Daniel', 'Prince', 'Zatta'],\n",
       " 2: ['ALex', 'Armour', 'Daniel', 'Prince', 'Zatta'],\n",
       " -1: ['ALex', 'Armour', 'Daniel', 'Prince', 'Zatta']}"
      ]
     },
     "execution_count": 55,
     "metadata": {},
     "output_type": "execute_result"
    }
   ],
   "source": [
    "liste_1=  ['ALex','Armour','Daniel','Prince','Zatta']\n",
    "\n",
    "dictionnaire = {}\n",
    "\n",
    "dictionnaire.fromkeys(liste, liste_1)"
   ]
  },
  {
   "cell_type": "code",
   "execution_count": 56,
   "id": "b694a33b-ba18-44a2-b142-b4e00ca2f0bc",
   "metadata": {},
   "outputs": [],
   "source": [
    "dictionnaire_carree = {k:v**2 for k,v in enumerate(range(10))}"
   ]
  },
  {
   "cell_type": "code",
   "execution_count": 57,
   "id": "3134ce0f-0918-4c2a-adfa-427ef463681a",
   "metadata": {},
   "outputs": [
    {
     "name": "stdout",
     "output_type": "stream",
     "text": [
      "{0: 0, 1: 1, 2: 4, 3: 9, 4: 16, 5: 25, 6: 36, 7: 49, 8: 64, 9: 81}\n"
     ]
    }
   ],
   "source": [
    "print(dictionnaire_carree)"
   ]
  },
  {
   "cell_type": "code",
   "execution_count": 58,
   "id": "b6e35f8a-9dc8-487f-a688-fe7758a2309c",
   "metadata": {},
   "outputs": [
    {
     "data": {
      "text/plain": [
       "[0, 1, 4, 9, 16, 25, 36, 49, 64, 81]"
      ]
     },
     "execution_count": 58,
     "metadata": {},
     "output_type": "execute_result"
    }
   ],
   "source": [
    "list(dictionnaire_carree.values())"
   ]
  },
  {
   "cell_type": "code",
   "execution_count": 60,
   "id": "0a47b7a8-0968-4779-a563-2b22b8a42188",
   "metadata": {},
   "outputs": [
    {
     "name": "stdin",
     "output_type": "stream",
     "text": [
      "entrez un entier 12\n"
     ]
    }
   ],
   "source": [
    "x = int(input(\"entrez un entier\"))"
   ]
  },
  {
   "cell_type": "code",
   "execution_count": 61,
   "id": "9cea8462-c132-4641-8d70-a3f21f168eb6",
   "metadata": {},
   "outputs": [
    {
     "data": {
      "text/plain": [
       "12"
      ]
     },
     "execution_count": 61,
     "metadata": {},
     "output_type": "execute_result"
    }
   ],
   "source": [
    "x"
   ]
  },
  {
   "cell_type": "markdown",
   "id": "9926ee98-b468-409e-bc55-99d2ff33be68",
   "metadata": {},
   "source": [
    "Open"
   ]
  },
  {
   "cell_type": "code",
   "execution_count": 63,
   "id": "9aa5543a-e041-4031-bce9-77c415395e69",
   "metadata": {},
   "outputs": [],
   "source": [
    "f = open(\"ficher.txt\", 'w')\n",
    "\n",
    "f.write(\"Bonjour\")\n",
    "f.close()"
   ]
  },
  {
   "cell_type": "code",
   "execution_count": 65,
   "id": "b96ee20e-f574-496e-beeb-1c3bbd13c5f5",
   "metadata": {},
   "outputs": [
    {
     "name": "stdout",
     "output_type": "stream",
     "text": [
      "Bonjour\n"
     ]
    }
   ],
   "source": [
    "f = open(\"ficher.txt\", 'r')\n",
    "\n",
    "print(f.read())\n",
    "f.close()"
   ]
  },
  {
   "cell_type": "code",
   "execution_count": 75,
   "id": "a262446c-b57a-4e2c-9de4-a451dcd08a7e",
   "metadata": {},
   "outputs": [],
   "source": [
    "with open(\"ficher.txt\", 'w') as f:\n",
    "    for i in range(20):\n",
    "        f.write(f\"{i}^2 = {i**2}\\n\")"
   ]
  },
  {
   "cell_type": "code",
   "execution_count": 77,
   "id": "f620066e-b994-48e6-8304-d7105e98241c",
   "metadata": {},
   "outputs": [
    {
     "data": {
      "text/plain": [
       "['0^2 = 0\\n',\n",
       " '1^2 = 1\\n',\n",
       " '2^2 = 4\\n',\n",
       " '3^2 = 9\\n',\n",
       " '4^2 = 16\\n',\n",
       " '5^2 = 25\\n',\n",
       " '6^2 = 36\\n',\n",
       " '7^2 = 49\\n',\n",
       " '8^2 = 64\\n',\n",
       " '9^2 = 81\\n',\n",
       " '10^2 = 100\\n',\n",
       " '11^2 = 121\\n',\n",
       " '12^2 = 144\\n',\n",
       " '13^2 = 169\\n',\n",
       " '14^2 = 196\\n',\n",
       " '15^2 = 225\\n',\n",
       " '16^2 = 256\\n',\n",
       " '17^2 = 289\\n',\n",
       " '18^2 = 324\\n',\n",
       " '19^2 = 361\\n']"
      ]
     },
     "execution_count": 77,
     "metadata": {},
     "output_type": "execute_result"
    }
   ],
   "source": [
    " with open(\"ficher.txt\", 'r') as f:\n",
    "    liste_3 = f.readlines()\n",
    "\n",
    "liste_3"
   ]
  },
  {
   "cell_type": "code",
   "execution_count": 73,
   "id": "62c17f41-5400-461e-8b7a-e4a44681ba74",
   "metadata": {},
   "outputs": [
    {
     "data": {
      "text/plain": [
       "'C:\\\\Users\\\\ADMIN'"
      ]
     },
     "execution_count": 73,
     "metadata": {},
     "output_type": "execute_result"
    }
   ],
   "source": [
    "import os\n",
    "\n",
    "os.getcwd()"
   ]
  },
  {
   "cell_type": "code",
   "execution_count": 79,
   "id": "7cf9d207-a11d-4ecd-a088-8e45198adef6",
   "metadata": {},
   "outputs": [
    {
     "data": {
      "text/plain": [
       "['0^2 = 0',\n",
       " '1^2 = 1',\n",
       " '2^2 = 4',\n",
       " '3^2 = 9',\n",
       " '4^2 = 16',\n",
       " '5^2 = 25',\n",
       " '6^2 = 36',\n",
       " '7^2 = 49',\n",
       " '8^2 = 64',\n",
       " '9^2 = 81',\n",
       " '10^2 = 100',\n",
       " '11^2 = 121',\n",
       " '12^2 = 144',\n",
       " '13^2 = 169',\n",
       " '14^2 = 196',\n",
       " '15^2 = 225',\n",
       " '16^2 = 256',\n",
       " '17^2 = 289',\n",
       " '18^2 = 324',\n",
       " '19^2 = 361']"
      ]
     },
     "execution_count": 79,
     "metadata": {},
     "output_type": "execute_result"
    }
   ],
   "source": [
    " with open(\"ficher.txt\", 'r') as f:\n",
    "    liste_4 = f.read().splitlines()\n",
    "\n",
    "liste_4"
   ]
  },
  {
   "cell_type": "code",
   "execution_count": 82,
   "id": "c0514f51-9c50-4986-9f99-2b6183eb9356",
   "metadata": {},
   "outputs": [],
   "source": [
    "liste = [line.strip() for line in open(\"ficher.txt\", 'r')]"
   ]
  },
  {
   "cell_type": "code",
   "execution_count": 83,
   "id": "ca02e5cf-242f-4104-91b7-c873a5c7094b",
   "metadata": {},
   "outputs": [
    {
     "data": {
      "text/plain": [
       "['0^2 = 0',\n",
       " '1^2 = 1',\n",
       " '2^2 = 4',\n",
       " '3^2 = 9',\n",
       " '4^2 = 16',\n",
       " '5^2 = 25',\n",
       " '6^2 = 36',\n",
       " '7^2 = 49',\n",
       " '8^2 = 64',\n",
       " '9^2 = 81',\n",
       " '10^2 = 100',\n",
       " '11^2 = 121',\n",
       " '12^2 = 144',\n",
       " '13^2 = 169',\n",
       " '14^2 = 196',\n",
       " '15^2 = 225',\n",
       " '16^2 = 256',\n",
       " '17^2 = 289',\n",
       " '18^2 = 324',\n",
       " '19^2 = 361']"
      ]
     },
     "execution_count": 83,
     "metadata": {},
     "output_type": "execute_result"
    }
   ],
   "source": [
    "liste"
   ]
  },
  {
   "cell_type": "code",
   "execution_count": null,
   "id": "0177f6e5-b56e-43c5-9347-53020ff6441d",
   "metadata": {},
   "outputs": [],
   "source": []
  }
 ],
 "metadata": {
  "kernelspec": {
   "display_name": "Python 3 (ipykernel)",
   "language": "python",
   "name": "python3"
  },
  "language_info": {
   "codemirror_mode": {
    "name": "ipython",
    "version": 3
   },
   "file_extension": ".py",
   "mimetype": "text/x-python",
   "name": "python",
   "nbconvert_exporter": "python",
   "pygments_lexer": "ipython3",
   "version": "3.12.7"
  }
 },
 "nbformat": 4,
 "nbformat_minor": 5
}
