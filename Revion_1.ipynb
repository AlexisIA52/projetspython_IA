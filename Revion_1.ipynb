{
 "cells": [
  {
   "cell_type": "code",
   "execution_count": null,
   "id": "d8b470c9-fcf0-4642-96f3-87bde8e29dc3",
   "metadata": {},
   "outputs": [],
   "source": [
    "print(2)"
   ]
  },
  {
   "cell_type": "code",
   "execution_count": 2,
   "id": "5b4cefb7-e3ee-4340-85d8-a3140086ebc1",
   "metadata": {},
   "outputs": [
    {
     "name": "stdout",
     "output_type": "stream",
     "text": [
      "1\n"
     ]
    }
   ],
   "source": [
    "x = 1\n",
    "if x == 1:\n",
    "    print(x)"
   ]
  },
  {
   "cell_type": "code",
   "execution_count": 3,
   "id": "075f7d4c-8d83-4469-96ec-3a9096238d4e",
   "metadata": {},
   "outputs": [
    {
     "name": "stdout",
     "output_type": "stream",
     "text": [
      "10\n",
      "8\n",
      "6\n"
     ]
    }
   ],
   "source": [
    "for i in range(10,4,-2):\n",
    "    print(i)"
   ]
  },
  {
   "cell_type": "code",
   "execution_count": 53,
   "id": "a630b7b0-3fda-4f99-8bfa-cd77a715cc55",
   "metadata": {},
   "outputs": [
    {
     "name": "stdout",
     "output_type": "stream",
     "text": [
      "[0, 1, 1, 2, 3, 5, 8, 13]\n"
     ]
    }
   ],
   "source": [
    "def fibonacci(n):\n",
    "    tout_elements = []\n",
    "    a=0\n",
    "    b= 1\n",
    "    while a <= n+1:\n",
    "        tout_elements.append(a)\n",
    "        a, b = b , a + b\n",
    "\n",
    "    return tout_elements\n",
    "print(fibonacci(19))\n",
    "        "
   ]
  },
  {
   "cell_type": "code",
   "execution_count": 15,
   "id": "d2953dc5-f865-4ac4-acb6-c3f1af657132",
   "metadata": {},
   "outputs": [
    {
     "name": "stdout",
     "output_type": "stream",
     "text": [
      "é\n"
     ]
    }
   ],
   "source": [
    "prenom = \"Josué\"\n",
    "\n",
    "print(prenom[-1])"
   ]
  },
  {
   "cell_type": "code",
   "execution_count": 37,
   "id": "4284d73d-a0f7-4449-9ed0-711333b9474b",
   "metadata": {},
   "outputs": [
    {
     "name": "stdout",
     "output_type": "stream",
     "text": [
      "[1, 2, 4, 35, 25]\n"
     ]
    }
   ],
   "source": [
    "liste = [1,3,2,32,4,34,35,5,25]\n",
    "\n",
    "print(liste[::2])"
   ]
  },
  {
   "cell_type": "code",
   "execution_count": 38,
   "id": "ed3fee8f-49c9-4406-a5b1-64bc0946566e",
   "metadata": {},
   "outputs": [
    {
     "name": "stdout",
     "output_type": "stream",
     "text": [
      "[1, 3, 2, 32, 4, 34, 35, 5, 25]\n"
     ]
    }
   ],
   "source": [
    "print(liste[:9:])"
   ]
  },
  {
   "cell_type": "code",
   "execution_count": 39,
   "id": "9312c443-1619-4de1-9bec-94814838de64",
   "metadata": {},
   "outputs": [
    {
     "name": "stdout",
     "output_type": "stream",
     "text": [
      "[-1, 3, 2, 32, 4, 34, 35, 5, 25]\n"
     ]
    }
   ],
   "source": [
    "liste[0] = -1\n",
    "print(liste)"
   ]
  },
  {
   "cell_type": "code",
   "execution_count": 40,
   "id": "3cae6368-4964-4e26-bbbe-f2df91ba8e24",
   "metadata": {},
   "outputs": [
    {
     "name": "stdout",
     "output_type": "stream",
     "text": [
      "[-1, 3, 2, 32, 4, 34, 35, 5, 25, 9]\n"
     ]
    }
   ],
   "source": [
    "liste.append(9)\n",
    "\n",
    "print(liste)"
   ]
  },
  {
   "cell_type": "code",
   "execution_count": 41,
   "id": "e149b4f5-9aaf-4354-a1c9-731ce6131b1b",
   "metadata": {},
   "outputs": [
    {
     "name": "stdout",
     "output_type": "stream",
     "text": [
      "[-1, 3, 2, 4, 34, 35, 5, 25, 9] 32\n"
     ]
    }
   ],
   "source": [
    "x = liste.pop(3)\n",
    "print(liste, x)"
   ]
  },
  {
   "cell_type": "code",
   "execution_count": 36,
   "id": "0ab981fd-2dd3-4d5d-9fcc-e3c57be5ef52",
   "metadata": {},
   "outputs": [
    {
     "name": "stdout",
     "output_type": "stream",
     "text": [
      "[-1, 3, 2, 34, 35, 5, 25, 9]\n"
     ]
    }
   ],
   "source": [
    "print(liste)"
   ]
  },
  {
   "cell_type": "code",
   "execution_count": 42,
   "id": "e1a69b7d-c2ba-420f-b769-c4f1829f6052",
   "metadata": {},
   "outputs": [
    {
     "data": {
      "text/plain": [
       "4"
      ]
     },
     "execution_count": 42,
     "metadata": {},
     "output_type": "execute_result"
    }
   ],
   "source": [
    "liste.index(34)"
   ]
  },
  {
   "cell_type": "code",
   "execution_count": 43,
   "id": "904652bf-191f-4177-be00-a7466d7da37b",
   "metadata": {},
   "outputs": [],
   "source": [
    "liste_2 = [100,40]\n",
    "liste.extend(liste_2)"
   ]
  },
  {
   "cell_type": "code",
   "execution_count": 44,
   "id": "8a1b079e-1b08-4136-a980-e4d8e07a84d3",
   "metadata": {},
   "outputs": [
    {
     "data": {
      "text/plain": [
       "[-1, 3, 2, 4, 34, 35, 5, 25, 9, 100, 40]"
      ]
     },
     "execution_count": 44,
     "metadata": {},
     "output_type": "execute_result"
    }
   ],
   "source": [
    "liste"
   ]
  },
  {
   "cell_type": "code",
   "execution_count": 45,
   "id": "4ae3ee22-db94-458c-a179-d1c07e76519a",
   "metadata": {},
   "outputs": [
    {
     "data": {
      "text/plain": [
       "1"
      ]
     },
     "execution_count": 45,
     "metadata": {},
     "output_type": "execute_result"
    }
   ],
   "source": [
    "liste.count(5)"
   ]
  },
  {
   "cell_type": "code",
   "execution_count": 50,
   "id": "e0a89f2e-0d48-4e35-bf00-be21b3eba3ea",
   "metadata": {},
   "outputs": [],
   "source": [
    "liste.sort(reverse = True)"
   ]
  },
  {
   "cell_type": "code",
   "execution_count": 51,
   "id": "274cce7f-8234-4a49-9c53-8985cd3baaaa",
   "metadata": {},
   "outputs": [
    {
     "name": "stdout",
     "output_type": "stream",
     "text": [
      "[100, 40, 35, 34, 25, 9, 5, 4, 3, 2, -1]\n"
     ]
    }
   ],
   "source": [
    "print(liste)"
   ]
  },
  {
   "cell_type": "code",
   "execution_count": 55,
   "id": "65a7f1df-08b9-454d-8ae9-e8662532e522",
   "metadata": {},
   "outputs": [
    {
     "data": {
      "text/plain": [
       "{100: ['ALex', 'Armour', 'Daniel', 'Prince', 'Zatta'],\n",
       " 40: ['ALex', 'Armour', 'Daniel', 'Prince', 'Zatta'],\n",
       " 35: ['ALex', 'Armour', 'Daniel', 'Prince', 'Zatta'],\n",
       " 34: ['ALex', 'Armour', 'Daniel', 'Prince', 'Zatta'],\n",
       " 25: ['ALex', 'Armour', 'Daniel', 'Prince', 'Zatta'],\n",
       " 9: ['ALex', 'Armour', 'Daniel', 'Prince', 'Zatta'],\n",
       " 5: ['ALex', 'Armour', 'Daniel', 'Prince', 'Zatta'],\n",
       " 4: ['ALex', 'Armour', 'Daniel', 'Prince', 'Zatta'],\n",
       " 3: ['ALex', 'Armour', 'Daniel', 'Prince', 'Zatta'],\n",
       " 2: ['ALex', 'Armour', 'Daniel', 'Prince', 'Zatta'],\n",
       " -1: ['ALex', 'Armour', 'Daniel', 'Prince', 'Zatta']}"
      ]
     },
     "execution_count": 55,
     "metadata": {},
     "output_type": "execute_result"
    }
   ],
   "source": [
    "liste_1=  ['ALex','Armour','Daniel','Prince','Zatta']\n",
    "\n",
    "dictionnaire = {}\n",
    "\n",
    "dictionnaire.fromkeys(liste, liste_1)"
   ]
  },
  {
   "cell_type": "code",
   "execution_count": 56,
   "id": "b694a33b-ba18-44a2-b142-b4e00ca2f0bc",
   "metadata": {},
   "outputs": [],
   "source": [
    "dictionnaire_carree = {k:v**2 for k,v in enumerate(range(10))}"
   ]
  },
  {
   "cell_type": "code",
   "execution_count": 57,
   "id": "3134ce0f-0918-4c2a-adfa-427ef463681a",
   "metadata": {},
   "outputs": [
    {
     "name": "stdout",
     "output_type": "stream",
     "text": [
      "{0: 0, 1: 1, 2: 4, 3: 9, 4: 16, 5: 25, 6: 36, 7: 49, 8: 64, 9: 81}\n"
     ]
    }
   ],
   "source": [
    "print(dictionnaire_carree)"
   ]
  },
  {
   "cell_type": "code",
   "execution_count": 58,
   "id": "b6e35f8a-9dc8-487f-a688-fe7758a2309c",
   "metadata": {},
   "outputs": [
    {
     "data": {
      "text/plain": [
       "[0, 1, 4, 9, 16, 25, 36, 49, 64, 81]"
      ]
     },
     "execution_count": 58,
     "metadata": {},
     "output_type": "execute_result"
    }
   ],
   "source": [
    "list(dictionnaire_carree.values())"
   ]
  },
  {
   "cell_type": "code",
   "execution_count": 60,
   "id": "0a47b7a8-0968-4779-a563-2b22b8a42188",
   "metadata": {},
   "outputs": [
    {
     "name": "stdin",
     "output_type": "stream",
     "text": [
      "entrez un entier 12\n"
     ]
    }
   ],
   "source": [
    "x = int(input(\"entrez un entier\"))"
   ]
  },
  {
   "cell_type": "code",
   "execution_count": 61,
   "id": "9cea8462-c132-4641-8d70-a3f21f168eb6",
   "metadata": {},
   "outputs": [
    {
     "data": {
      "text/plain": [
       "12"
      ]
     },
     "execution_count": 61,
     "metadata": {},
     "output_type": "execute_result"
    }
   ],
   "source": [
    "x"
   ]
  },
  {
   "cell_type": "markdown",
   "id": "9926ee98-b468-409e-bc55-99d2ff33be68",
   "metadata": {},
   "source": [
    "Open"
   ]
  },
  {
   "cell_type": "code",
   "execution_count": 63,
   "id": "9aa5543a-e041-4031-bce9-77c415395e69",
   "metadata": {},
   "outputs": [],
   "source": [
    "f = open(\"ficher.txt\", 'w')\n",
    "\n",
    "f.write(\"Bonjour\")\n",
    "f.close()"
   ]
  },
  {
   "cell_type": "code",
   "execution_count": 65,
   "id": "b96ee20e-f574-496e-beeb-1c3bbd13c5f5",
   "metadata": {},
   "outputs": [
    {
     "name": "stdout",
     "output_type": "stream",
     "text": [
      "Bonjour\n"
     ]
    }
   ],
   "source": [
    "f = open(\"ficher.txt\", 'r')\n",
    "\n",
    "print(f.read())\n",
    "f.close()"
   ]
  },
  {
   "cell_type": "code",
   "execution_count": 75,
   "id": "a262446c-b57a-4e2c-9de4-a451dcd08a7e",
   "metadata": {},
   "outputs": [],
   "source": [
    "with open(\"ficher.txt\", 'w') as f:\n",
    "    for i in range(20):\n",
    "        f.write(f\"{i}^2 = {i**2}\\n\")"
   ]
  },
  {
   "cell_type": "code",
   "execution_count": 77,
   "id": "f620066e-b994-48e6-8304-d7105e98241c",
   "metadata": {},
   "outputs": [
    {
     "data": {
      "text/plain": [
       "['0^2 = 0\\n',\n",
       " '1^2 = 1\\n',\n",
       " '2^2 = 4\\n',\n",
       " '3^2 = 9\\n',\n",
       " '4^2 = 16\\n',\n",
       " '5^2 = 25\\n',\n",
       " '6^2 = 36\\n',\n",
       " '7^2 = 49\\n',\n",
       " '8^2 = 64\\n',\n",
       " '9^2 = 81\\n',\n",
       " '10^2 = 100\\n',\n",
       " '11^2 = 121\\n',\n",
       " '12^2 = 144\\n',\n",
       " '13^2 = 169\\n',\n",
       " '14^2 = 196\\n',\n",
       " '15^2 = 225\\n',\n",
       " '16^2 = 256\\n',\n",
       " '17^2 = 289\\n',\n",
       " '18^2 = 324\\n',\n",
       " '19^2 = 361\\n']"
      ]
     },
     "execution_count": 77,
     "metadata": {},
     "output_type": "execute_result"
    }
   ],
   "source": [
    " with open(\"ficher.txt\", 'r') as f:\n",
    "    liste_3 = f.readlines()\n",
    "\n",
    "liste_3"
   ]
  },
  {
   "cell_type": "code",
   "execution_count": 73,
   "id": "62c17f41-5400-461e-8b7a-e4a44681ba74",
   "metadata": {},
   "outputs": [
    {
     "data": {
      "text/plain": [
       "'C:\\\\Users\\\\ADMIN'"
      ]
     },
     "execution_count": 73,
     "metadata": {},
     "output_type": "execute_result"
    }
   ],
   "source": [
    "import os\n",
    "\n",
    "os.getcwd()"
   ]
  },
  {
   "cell_type": "code",
   "execution_count": 79,
   "id": "7cf9d207-a11d-4ecd-a088-8e45198adef6",
   "metadata": {},
   "outputs": [
    {
     "data": {
      "text/plain": [
       "['0^2 = 0',\n",
       " '1^2 = 1',\n",
       " '2^2 = 4',\n",
       " '3^2 = 9',\n",
       " '4^2 = 16',\n",
       " '5^2 = 25',\n",
       " '6^2 = 36',\n",
       " '7^2 = 49',\n",
       " '8^2 = 64',\n",
       " '9^2 = 81',\n",
       " '10^2 = 100',\n",
       " '11^2 = 121',\n",
       " '12^2 = 144',\n",
       " '13^2 = 169',\n",
       " '14^2 = 196',\n",
       " '15^2 = 225',\n",
       " '16^2 = 256',\n",
       " '17^2 = 289',\n",
       " '18^2 = 324',\n",
       " '19^2 = 361']"
      ]
     },
     "execution_count": 79,
     "metadata": {},
     "output_type": "execute_result"
    }
   ],
   "source": [
    " with open(\"ficher.txt\", 'r') as f:\n",
    "    liste_4 = f.read().splitlines()\n",
    "\n",
    "liste_4"
   ]
  },
  {
   "cell_type": "code",
   "execution_count": 82,
   "id": "c0514f51-9c50-4986-9f99-2b6183eb9356",
   "metadata": {},
   "outputs": [],
   "source": [
    "liste = [line.strip() for line in open(\"ficher.txt\", 'r')]"
   ]
  },
  {
   "cell_type": "code",
   "execution_count": 83,
   "id": "ca02e5cf-242f-4104-91b7-c873a5c7094b",
   "metadata": {},
   "outputs": [
    {
     "data": {
      "text/plain": [
       "['0^2 = 0',\n",
       " '1^2 = 1',\n",
       " '2^2 = 4',\n",
       " '3^2 = 9',\n",
       " '4^2 = 16',\n",
       " '5^2 = 25',\n",
       " '6^2 = 36',\n",
       " '7^2 = 49',\n",
       " '8^2 = 64',\n",
       " '9^2 = 81',\n",
       " '10^2 = 100',\n",
       " '11^2 = 121',\n",
       " '12^2 = 144',\n",
       " '13^2 = 169',\n",
       " '14^2 = 196',\n",
       " '15^2 = 225',\n",
       " '16^2 = 256',\n",
       " '17^2 = 289',\n",
       " '18^2 = 324',\n",
       " '19^2 = 361']"
      ]
     },
     "execution_count": 83,
     "metadata": {},
     "output_type": "execute_result"
    }
   ],
   "source": [
    "liste"
   ]
  },
  {
   "cell_type": "code",
   "execution_count": null,
   "id": "0177f6e5-b56e-43c5-9347-53020ff6441d",
   "metadata": {},
   "outputs": [],
   "source": []
  }
 ],
 "metadata": {
  "kernelspec": {
   "display_name": "Python 3 (ipykernel)",
   "language": "python",
   "name": "python3"
  },
  "language_info": {
   "codemirror_mode": {
    "name": "ipython",
    "version": 3
   },
   "file_extension": ".py",
   "mimetype": "text/x-python",
   "name": "python",
   "nbconvert_exporter": "python",
   "pygments_lexer": "ipython3",
   "version": "3.12.7"
  }
 },
 "nbformat": 4,
 "nbformat_minor": 5
}
