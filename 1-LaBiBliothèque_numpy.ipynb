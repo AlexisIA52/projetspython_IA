{
 "cells": [
  {
   "cell_type": "markdown",
   "metadata": {},
   "source": [
    "# **<span style=\"color: yellow;\">Bibliothèque et Package 🗒️:</span>**\n",
    "\n",
    "En Python, bibliothèques et packages sont des concepts liés, mais avec quelques différences :\n",
    "\n",
    "1. Bibliothèque (Library) :\n",
    "Une bibliothèque est un ensemble de modules Python qui fournissent des fonctionnalités spécifiques. Elle peut contenir plusieurs modules et parfois même des packages. Par exemple, numpy, pandas et matplotlib sont des bibliothèques populaires pour la manipulation de données et le calcul scientifique.\n",
    "\n",
    "\n",
    "2. Package :\n",
    "Un package est une structure qui permet d'organiser des modules Python dans un répertoire. Il contient généralement un fichier spécial _init_.py (même s'il n'est plus obligatoire depuis Python 3.3). Un package peut contenir plusieurs sous-packages et modules.\n",
    "\n",
    "Exemple de structure de package :\n",
    "\n",
    "my_package/\n",
    "\n",
    "├── _init_.py\n",
    "\n",
    "├── module1.py\n",
    "\n",
    "├── module2.py\n",
    "\n",
    "├── subpackage/\n",
    "\n",
    "    ├── _init_.py\n",
    "\n",
    "    ├── submodule1.py\n",
    "\n",
    "\n",
    "\n",
    "\n",
    "Différence clé :\n",
    "\n",
    "Une bibliothèque est un ensemble de modules (et parfois de packages) offrant des fonctionnalités spécifiques.Un package est une structure organisationnelle qui permet de grouper plusieurs modules sous un même nom.\n"
   ]
  },
  {
   "cell_type": "markdown",
   "metadata": {},
   "source": [
    "# *Installation d'une bibliothèque ou d'un package python💡*\n",
    "\n",
    "👉 Ouvrir le terminal ou l'invite de commandes \n",
    "\n",
    "👉Utiliser la commande \"pip install nom_du_package\"\n",
    "        Exemple : pip install numpy\n",
    "\n",
    "👉Importer le package dans un script Python pour vérifier.\n"
   ]
  },
  {
   "cell_type": "markdown",
   "metadata": {},
   "source": [
    "# **1. Création et manipulation avancée de tableaux NumPy💡**\n",
    "\n"
   ]
  },
  {
   "cell_type": "markdown",
   "metadata": {},
   "source": [
    "1.1 Types de données dans NumPy\n",
    "\n",
    "NumPy optimise la mémoire en utilisant des types de données spécifiques comme int32, float64, etc.\n",
    "\n"
   ]
  },
  {
   "cell_type": "code",
   "execution_count": 1,
   "metadata": {},
   "outputs": [
    {
     "name": "stdout",
     "output_type": "stream",
     "text": [
      "int32\n"
     ]
    }
   ],
   "source": [
    "import numpy as np\n",
    "\n",
    "arr = np.array([1, 2, 3], dtype=np.int32)  # Tableau d'entiers 32 bits\n",
    "print(arr.dtype)\n"
   ]
  },
  {
   "cell_type": "markdown",
   "metadata": {},
   "source": [
    "Astuce : On peut convertir un type avec .astype()."
   ]
  },
  {
   "cell_type": "code",
   "execution_count": 2,
   "metadata": {},
   "outputs": [
    {
     "name": "stdout",
     "output_type": "stream",
     "text": [
      "float64\n"
     ]
    }
   ],
   "source": [
    "arr_float = arr.astype(np.float64)  # Conversion en float64\n",
    "print(arr_float.dtype)\n"
   ]
  },
  {
   "cell_type": "markdown",
   "metadata": {},
   "source": [
    "\n",
    "    Au lieu de créer un tableau manuellement, NumPy offre des méthodes pour générer des tableaux rapidement :\n",
    "\n",
    "👉 np.zeros((m, n)) : crée un tableau de zéros.\n",
    "\n",
    "👉 np.ones((m, n)) : crée un tableau de 1.\n",
    "\n",
    "👉 np.full((m, n), valeur) : crée un tableau rempli avec une valeur donnée.\n",
    "\n",
    "👉 np.eye(n) : crée une matrice identité.\n",
    "\n",
    "👉 np.linspace(start, stop, num) : crée un tableau avec num valeurs uniformément espacées entre start et stop.\n",
    "\n",
    "👉 np.arange(start, stop, step) : crée un tableau avec des valeurs espacées de step.\n",
    "\n",
    "\n",
    "\n",
    "\n"
   ]
  },
  {
   "cell_type": "code",
   "execution_count": 6,
   "metadata": {},
   "outputs": [
    {
     "name": "stdout",
     "output_type": "stream",
     "text": [
      ".....arr1...... \n",
      " [[0. 0. 0.]\n",
      " [0. 0. 0.]]\n",
      "\n",
      ".....arr2...... \n",
      " [ 0.   2.5  5.   7.5 10. ]\n",
      "\n",
      ".....arr3...... \n",
      " [1 3 5 7 9]\n"
     ]
    }
   ],
   "source": [
    "arr1 = np.zeros((2, 3))   # Tableau de zéros 2x3\n",
    "arr2 = np.linspace(0, 10, 5)  # Cinq valeurs entre 0 et 10\n",
    "arr3 = np.arange(1, 10, 2)  # Valeurs de 1 à 9 avec un pas de 2\n",
    "\n",
    "print(\".....arr1...... \\n\",arr1)\n",
    "print(\"\\n.....arr2...... \\n\",arr2)\n",
    "print(\"\\n.....arr3...... \\n\",arr3)\n"
   ]
  },
  {
   "cell_type": "markdown",
   "metadata": {},
   "source": [
    "# **2. Indexation et Slicing avancés 💡**"
   ]
  },
  {
   "cell_type": "markdown",
   "metadata": {},
   "source": [
    "2.1 Indexation booléenne\n",
    "\n",
    "On peut extraire des valeurs spécifiques d’un tableau en utilisant des conditions.\n"
   ]
  },
  {
   "cell_type": "code",
   "execution_count": 10,
   "metadata": {},
   "outputs": [
    {
     "name": "stdout",
     "output_type": "stream",
     "text": [
      "[30 40 50]\n"
     ]
    }
   ],
   "source": [
    "arr = np.array([10, 20, 30, 40, 50])\n",
    "print(arr[arr > 25])  # Retourne [30 40 50]\n"
   ]
  },
  {
   "cell_type": "markdown",
   "metadata": {},
   "source": [
    "2.2 Indexation avec listes d'indices\n",
    "\n",
    "On peut extraire des éléments spécifiques en donnant une liste d'indices.\n",
    "\n"
   ]
  },
  {
   "cell_type": "code",
   "execution_count": 11,
   "metadata": {},
   "outputs": [
    {
     "name": "stdout",
     "output_type": "stream",
     "text": [
      "[10 30 50]\n"
     ]
    }
   ],
   "source": [
    "arr = np.array([10, 20, 30, 40, 50])\n",
    "indices = [0, 2, 4]\n",
    "print(arr[indices])  # [10 30 50]\n"
   ]
  },
  {
   "cell_type": "markdown",
   "metadata": {},
   "source": [
    "# **3. Opérations mathématiques avec NumPy 💡**\n",
    "\n"
   ]
  },
  {
   "cell_type": "markdown",
   "metadata": {},
   "source": [
    "3.1 Opérations élémentaires\n",
    "\n",
    "On peut faire des opérations élément par élément.\n",
    "\n"
   ]
  },
  {
   "cell_type": "code",
   "execution_count": 13,
   "metadata": {},
   "outputs": [
    {
     "name": "stdout",
     "output_type": "stream",
     "text": [
      ".....a + b....\n",
      " [5 7 9]\n",
      "\n",
      ".....a * b....\n",
      " [ 4 10 18]\n",
      "\n",
      ".....a**2....\n",
      " [1 4 9]\n"
     ]
    }
   ],
   "source": [
    "a = np.array([1, 2, 3])\n",
    "b = np.array([4, 5, 6])\n",
    "\n",
    "print(\".....a + b....\\n\",a + b)  # [5 7 9]\n",
    "print(\"\\n.....a * b....\\n\",a * b)  # [4 10 18]\n",
    "print(\"\\n.....a**2....\\n\",a ** 2) # [1 4 9]\n"
   ]
  },
  {
   "cell_type": "markdown",
   "metadata": {},
   "source": [
    "3.2 Fonctions mathématiques intégrées\n",
    "\n",
    "NumPy propose des fonctions mathématiques optimisées.\n",
    "\n"
   ]
  },
  {
   "cell_type": "code",
   "execution_count": 15,
   "metadata": {},
   "outputs": [
    {
     "name": "stdout",
     "output_type": "stream",
     "text": [
      "[0.0000000e+00 1.0000000e+00 1.2246468e-16]\n",
      "[0.         0.69314718 1.09861229]\n",
      "[1.         2.71828183 7.3890561 ]\n"
     ]
    }
   ],
   "source": [
    "arr = np.array([0, np.pi / 2, np.pi])\n",
    "print(np.sin(arr))  # [0. 1. 0.]\n",
    "print(np.log(np.array([1, 2, 3])))  # Logarithme naturel\n",
    "print(np.exp(np.array([0, 1, 2])))  # Exponentielle\n"
   ]
  },
  {
   "cell_type": "markdown",
   "metadata": {},
   "source": [
    "# **4. Manipulation de tableaux💡**"
   ]
  },
  {
   "cell_type": "markdown",
   "metadata": {},
   "source": [
    "4.1 Changement de forme (reshape)\n",
    "\n",
    "On peut modifier la forme d’un tableau sans en changer les valeurs.\n",
    "\n"
   ]
  },
  {
   "cell_type": "code",
   "execution_count": 16,
   "metadata": {},
   "outputs": [
    {
     "name": "stdout",
     "output_type": "stream",
     "text": [
      "[[1 2 3]\n",
      " [4 5 6]\n",
      " [7 8 9]]\n"
     ]
    }
   ],
   "source": [
    "arr = np.arange(1, 10)\n",
    "reshaped = arr.reshape((3, 3))\n",
    "print(reshaped)\n"
   ]
  },
  {
   "cell_type": "markdown",
   "metadata": {},
   "source": [
    "4.2 Concaténation et empilement\n",
    "\n",
    "On peut concaténer ou empiler des tableaux.\n",
    "\n"
   ]
  },
  {
   "cell_type": "code",
   "execution_count": 18,
   "metadata": {},
   "outputs": [
    {
     "name": "stdout",
     "output_type": "stream",
     "text": [
      "[[1 2]\n",
      " [3 4]\n",
      " [5 6]]\n",
      "\n",
      " [[1 2 5]\n",
      " [3 4 6]]\n"
     ]
    }
   ],
   "source": [
    "a = np.array([[1, 2], [3, 4]])\n",
    "b = np.array([[5, 6]])\n",
    "\n",
    "print(np.vstack((a, b)))  # Empile verticalement\n",
    "print(\"\\n\",np.hstack((a, b.T)))  # Empile horizontalement\n"
   ]
  },
  {
   "cell_type": "markdown",
   "metadata": {},
   "source": [
    "# **5. Statistiques et agrégation💡**\n"
   ]
  },
  {
   "cell_type": "markdown",
   "metadata": {},
   "source": [
    "\n",
    "NumPy permet d’effectuer des opérations statistiques rapidement.\n",
    "\n"
   ]
  },
  {
   "cell_type": "code",
   "execution_count": 19,
   "metadata": {},
   "outputs": [
    {
     "name": "stdout",
     "output_type": "stream",
     "text": [
      "Somme totale :  21\n",
      "\n",
      "Moyenne:  3.5\n",
      "\n",
      "Ecart-type:  1.707825127659933\n",
      "\n",
      "Minimum par ligne :  [1 4]\n",
      "\n",
      "Maximum par colonne:  [4 5 6]\n"
     ]
    }
   ],
   "source": [
    "arr = np.array([[1, 2, 3], [4, 5, 6]])\n",
    "\n",
    "print(\"Somme totale : \",arr.sum())  # Somme totale\n",
    "print(\"\\nMoyenne: \",arr.mean())  # Moyenne\n",
    "print(\"\\nEcart-type: \",arr.std())  # Écart-type\n",
    "print(\"\\nMinimum par ligne : \",arr.min(axis=1))  # Minimum par ligne\n",
    "print(\"\\nMaximum par colonne: \",arr.max(axis=0))  # Maximum par colonne\n"
   ]
  },
  {
   "cell_type": "markdown",
   "metadata": {},
   "source": [
    "# **6. Applications avancées💡**"
   ]
  },
  {
   "cell_type": "markdown",
   "metadata": {},
   "source": [
    "Génération de nombres aléatoires\n",
    "\n",
    "\n",
    "\n"
   ]
  },
  {
   "cell_type": "markdown",
   "metadata": {},
   "source": [
    "NumPy permet de générer des nombres aléatoires pour la simulation et l’apprentissage automatique."
   ]
  },
  {
   "cell_type": "markdown",
   "metadata": {},
   "source": [
    "# *<span style=\"color: green;\">Exercice 🗒️🖊️:</span>*\n",
    "\n",
    "# *Partie 1*\n",
    "Créer un tableau NumPy contenant les nombres de 1 à 20.\n",
    "\n",
    "Extraire une sous-partie de ce tableau allant du 5e au 15e élément.\n",
    "\n",
    "Redimensionner la sous-partie extraite pour qu'elle soit une matrice 2x5.\n",
    "\n",
    "Calculer la somme de tous les éléments de cette matrice."
   ]
  },
  {
   "cell_type": "markdown",
   "metadata": {},
   "source": [
    "# *Partie 2*\n",
    "\n",
    "Créer deux tableaux NumPy contenant 10 nombres aléatoires chacun.\n",
    "\n",
    "Additionner ces deux tableaux élément par élément.\n",
    "\n",
    "Appliquer une fonction logarithmique sur le tableau résultant.\n",
    "\n",
    "Calculer la moyenne des éléments du tableau résultant."
   ]
  },
  {
   "cell_type": "code",
   "execution_count": null,
   "metadata": {},
   "outputs": [],
   "source": []
  }
 ],
 "metadata": {
  "kernelspec": {
   "display_name": "base",
   "language": "python",
   "name": "python3"
  },
  "language_info": {
   "codemirror_mode": {
    "name": "ipython",
    "version": 3
   },
   "file_extension": ".py",
   "mimetype": "text/x-python",
   "name": "python",
   "nbconvert_exporter": "python",
   "pygments_lexer": "ipython3",
   "version": "3.10.9"
  }
 },
 "nbformat": 4,
 "nbformat_minor": 2
}
